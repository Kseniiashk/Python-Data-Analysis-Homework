{
 "cells": [
  {
   "cell_type": "markdown",
   "metadata": {
    "id": "ea0KkZhm8nqD"
   },
   "source": [
    "### Задача 1: Написание простых SQL-запросов (3б всего, по 0.3б за задание)\n"
   ]
  },
  {
   "cell_type": "markdown",
   "metadata": {
    "id": "vVg26g5U81WO"
   },
   "source": [
    "В задаче 1 предлагается рассмотреть известную базу данных HR Oracle (ссылки на этой строке для общего развития, не обязательны): https://docs.oracle.com/en/database/oracle/oracle-database/12.2/comsc/HR-sample-schema-table-descriptions.html#GUID-506C25CE-FA5D-472A-9C4C-F9EF200823EE, https://github.com/oracle/db-sample-schemas/tree/main/human_resources\n",
    "\n",
    "- Скрипты для создания рассматриваемых таблиц и заполнения их данными для разных СУБД: https://www.sqltutorial.org/sql-sample-database/\n",
    "\n",
    "- Необходимо написать 10 SQL-запросов (каждый по 0.3б), каждый из которых **независимо от предыдущих** будет решать описанную задачу.\n",
    "\n",
    "- В качестве решения необходимо написать SQL-запрос после соответствующего условия.\n",
    "\n",
    "- Укажите в конце этой строки СУБД, которую вы используете: (например, MySQL)\n",
    "- \n",
    "  sqlite"
   ]
  },
  {
   "cell_type": "markdown",
   "metadata": {
    "id": "ebKJIxdL-PpJ"
   },
   "source": [
    "1.1. Таблица Employees. Получить список всех сотрудников, у которых зарплата находится в промежутке от 8000 до 9000 (включительно) и/или кратна 1000"
   ]
  },
  {
   "cell_type": "code",
   "execution_count": null,
   "metadata": {},
   "outputs": [],
   "source": [
    "SELECT *\n",
    "FROM Employees\n",
    "WHERE (salary BETWEEN 8000 AND 9000) OR (salary % 1000 = 0);"
   ]
  },
  {
   "cell_type": "markdown",
   "metadata": {
    "id": "S8JPk8OX-Q6z"
   },
   "source": [
    "1.2. Таблица Employees. Получить первое трёхзначное число телефонного номера сотрудника, если его номер в формате ХХХ.ХХХ.ХХХХ"
   ]
  },
  {
   "cell_type": "code",
   "execution_count": null,
   "metadata": {
    "id": "8jEtimEb-Q6z"
   },
   "outputs": [],
   "source": [
    "SELECT \n",
    "    SUBSTR(phone_number, 1, 3) AS first_three_digits\n",
    "FROM Employees\n",
    "LIMIT 1;"
   ]
  },
  {
   "cell_type": "markdown",
   "metadata": {
    "id": "m2izcFeL-RC0"
   },
   "source": [
    "1.3. Таблица Departments. Получить первое слово из имени департамента для тех, у кого в названии больше одного слова"
   ]
  },
  {
   "cell_type": "code",
   "execution_count": null,
   "metadata": {
    "id": "YT03hS48-RC0"
   },
   "outputs": [],
   "source": [
    "SELECT SUBSTR(department_name, 1, INSTR(department_name, ' ') - 1) AS first_word\n",
    "FROM Departments\n",
    "WHERE INSTR(department_name, ' ') > 0;"
   ]
  },
  {
   "cell_type": "markdown",
   "metadata": {
    "id": "iqAf1j5x-RdG"
   },
   "source": [
    "1.4. Таблица Employees. Получить список всех сотрудников, которые пришли на работу в первый день месяца (любого)"
   ]
  },
  {
   "cell_type": "code",
   "execution_count": null,
   "metadata": {
    "id": "kXoRj6z5-RdG"
   },
   "outputs": [],
   "source": [
    "SELECT *\n",
    "FROM Employees\n",
    "WHERE STRFTIME('%d', hire_date) = '01';"
   ]
  },
  {
   "cell_type": "markdown",
   "metadata": {
    "id": "Za-PuN0S-Rlh"
   },
   "source": [
    "1.5. Таблица Employees. Получить уровень зарплаты каждого сотрудника: Меньше 5000 считается Low level, Больше или равно 5000 и меньше 10000 считается Normal level, Больше или равно 10000 считается High level"
   ]
  },
  {
   "cell_type": "code",
   "execution_count": null,
   "metadata": {
    "id": "R9SGTvSK-Rlh"
   },
   "outputs": [],
   "source": [
    "SELECT employee_id, first_name, last_name, salary,\n",
    "       CASE\n",
    "           WHEN salary < 5000 THEN 'Low level'\n",
    "           WHEN salary >= 5000 AND salary < 10000 THEN 'Normal level'\n",
    "           ELSE 'High level'\n",
    "       END AS salary_level\n",
    "FROM Employees;"
   ]
  },
  {
   "cell_type": "markdown",
   "metadata": {
    "id": "BZ8ExR5v-Rsp"
   },
   "source": [
    "1.6. Таблица Employees. Получить список department_id и округленную среднюю зарплату работников в каждом департаменте."
   ]
  },
  {
   "cell_type": "code",
   "execution_count": null,
   "metadata": {
    "id": "d_uNfrtg-Rsp"
   },
   "outputs": [],
   "source": [
    "SELECT department_id, ROUND(AVG(salary)) AS avg_salary\n",
    "FROM Employees\n",
    "GROUP BY department_id;"
   ]
  },
  {
   "cell_type": "markdown",
   "metadata": {
    "id": "7fHCQfoX-Ry9"
   },
   "source": [
    "1.7. Таблицы Employees, Departments, Locations, Countries, Regions. Получить список регионов и количество сотрудников в каждом регионе"
   ]
  },
  {
   "cell_type": "code",
   "execution_count": null,
   "metadata": {
    "id": "3DkLgJ95-Ry-"
   },
   "outputs": [],
   "source": [
    "SELECT r.region_name, COUNT(e.employee_id) AS employee_count\n",
    "FROM Employees e\n",
    "JOIN Departments d ON e.department_id = d.department_id\n",
    "JOIN Locations l ON d.location_id = l.location_id\n",
    "JOIN Countries c ON l.country_id = c.country_id\n",
    "JOIN Regions r ON c.region_id = r.region_id\n",
    "GROUP BY r.region_name;"
   ]
  },
  {
   "cell_type": "markdown",
   "metadata": {
    "id": "7IoXgicK-R26"
   },
   "source": [
    "1.8. Таблица Employees. Показать всех менеджеров, которые имеют в подчинении больше шести сотрудников"
   ]
  },
  {
   "cell_type": "code",
   "execution_count": null,
   "metadata": {
    "id": "ic6nSoTM-R26"
   },
   "outputs": [],
   "source": [
    "SELECT manager_id, COUNT(employee_id) AS subordinates_count\n",
    "FROM Employees\n",
    "GROUP BY manager_id\n",
    "HAVING COUNT(employee_id) > 6;"
   ]
  },
  {
   "cell_type": "markdown",
   "metadata": {
    "id": "HFoooo13-R-j"
   },
   "source": [
    "1.9. Таблицы Employees, Departments. Показать все департаменты, в которых работают больше пяти сотрудников"
   ]
  },
  {
   "cell_type": "code",
   "execution_count": null,
   "metadata": {
    "id": "xX3SbIpn-R-j"
   },
   "outputs": [],
   "source": [
    "SELECT d.department_name, COUNT(e.employee_id) AS employee_count\n",
    "FROM Employees e\n",
    "JOIN Departments d ON e.department_id = d.department_id\n",
    "GROUP BY d.department_name\n",
    "HAVING COUNT(e.employee_id) > 5;"
   ]
  },
  {
   "cell_type": "markdown",
   "metadata": {
    "id": "Qvlids8O-SDt"
   },
   "source": [
    "1.10. Таблица Employees. Получить список сотрудников с зарплатой большей средней зарплаты всех сотрудников."
   ]
  },
  {
   "cell_type": "code",
   "execution_count": null,
   "metadata": {
    "id": "pLCTIhbi-SDu"
   },
   "outputs": [],
   "source": [
    "SELECT *\n",
    "FROM Employees\n",
    "WHERE salary > (SELECT AVG(salary) FROM Employees);"
   ]
  },
  {
   "cell_type": "markdown",
   "metadata": {
    "id": "tvVIszZv2noc"
   },
   "source": [
    "### Задача 2: Асинхронная работа с SQLite (2 б)\n"
   ]
  },
  {
   "cell_type": "markdown",
   "metadata": {
    "id": "GY2J__ChxyZ9"
   },
   "source": [
    "Результатом должен быть работающий код на Python, выполняющий все шаги из задания.\n",
    "1. Создайте базу данных `library.db` с таблицей `books`:\n",
    "   - `id` (INTEGER, PRIMARY KEY, AUTOINCREMENT),\n",
    "   - `title` (TEXT),\n",
    "   - `author` (TEXT),\n",
    "   - `year` (INTEGER).\n",
    "2. Асинхронно добавьте три книги:\n",
    "   - `\"Book A\"`, автор: `Author 1`, год: 2001;\n",
    "   - `\"Book B\"`, автор: `Author 2`, год: 1999;\n",
    "   - `\"Book C\"`, автор: `Author 3`, год: 2015.\n",
    "3. Асинхронно получите список всех книг, опубликованных после 2000 года."
   ]
  },
  {
   "cell_type": "code",
   "execution_count": 1,
   "metadata": {
    "colab": {
     "base_uri": "https://localhost:8080/"
    },
    "id": "_CzfyLo1zR6e",
    "outputId": "ba6a0269-6406-4f38-fef5-5110243ea02e"
   },
   "outputs": [
    {
     "name": "stdout",
     "output_type": "stream",
     "text": [
      "\u001b[33mWARNING: Skipping /Users/kseniashk/anaconda3/lib/python3.11/site-packages/matplotlib-3.8.4.dist-info due to invalid metadata entry 'name'\u001b[0m\u001b[33m\n",
      "\u001b[0m\u001b[33mWARNING: Skipping /Users/kseniashk/anaconda3/lib/python3.11/site-packages/matplotlib-3.8.4.dist-info due to invalid metadata entry 'name'\u001b[0m\u001b[33m\n",
      "\u001b[0mRequirement already satisfied: aiosqlite in /Users/kseniashk/anaconda3/lib/python3.11/site-packages (0.18.0)\n",
      "\u001b[33mWARNING: Skipping /Users/kseniashk/anaconda3/lib/python3.11/site-packages/matplotlib-3.8.4.dist-info due to invalid metadata entry 'name'\u001b[0m\u001b[33m\n",
      "\u001b[0m\u001b[33mWARNING: Skipping /Users/kseniashk/anaconda3/lib/python3.11/site-packages/matplotlib-3.8.4.dist-info due to invalid metadata entry 'name'\u001b[0m\u001b[33m\n",
      "\u001b[0mNote: you may need to restart the kernel to use updated packages.\n"
     ]
    }
   ],
   "source": [
    "pip install aiosqlite"
   ]
  },
  {
   "cell_type": "code",
   "execution_count": 1,
   "metadata": {
    "id": "SOSUh8uczYXX"
   },
   "outputs": [],
   "source": [
    "import nest_asyncio\n",
    "nest_asyncio.apply()"
   ]
  },
  {
   "cell_type": "code",
   "execution_count": 3,
   "metadata": {},
   "outputs": [
    {
     "name": "stdout",
     "output_type": "stream",
     "text": [
      "(1, 'Book A', 'Author 1', 2001)\n",
      "(3, 'Book C', 'Author 3', 2015)\n"
     ]
    }
   ],
   "source": [
    "import asyncio\n",
    "import aiosqlite\n",
    "\n",
    "async def create_table():\n",
    "    async with aiosqlite.connect('library.db') as db:\n",
    "        await db.execute('''CREATE TABLE IF NOT EXISTS books (\n",
    "                id INTEGER PRIMARY KEY AUTOINCREMENT,\n",
    "                title TEXT,\n",
    "                author TEXT,\n",
    "                year INTEGER\n",
    "            )''')\n",
    "        await db.commit()\n",
    "\n",
    "async def insert_books():\n",
    "    async with aiosqlite.connect('library.db') as db:\n",
    "        await db.execute(\"INSERT INTO books (title, author, year) VALUES (?, ?, ?)\", (\"Book A\", \"Author 1\", 2001))\n",
    "        await db.execute(\"INSERT INTO books (title, author, year) VALUES (?, ?, ?)\", (\"Book B\", \"Author 2\", 1999))\n",
    "        await db.execute(\"INSERT INTO books (title, author, year) VALUES (?, ?, ?)\", (\"Book C\", \"Author 3\", 2015))\n",
    "        await db.commit()\n",
    "\n",
    "async def get_books_after_2000():\n",
    "    async with aiosqlite.connect('library.db') as db:\n",
    "        async with db.execute(\"SELECT * FROM books WHERE year > 2000\") as cursor:\n",
    "            return await cursor.fetchall()\n",
    "\n",
    "async def main():\n",
    "    await create_table()\n",
    "    await insert_books()\n",
    "    books = await get_books_after_2000()\n",
    "    for book in books:\n",
    "        print(book)\n",
    "\n",
    "asyncio.run(main())"
   ]
  },
  {
   "cell_type": "markdown",
   "metadata": {
    "id": "0SaLrCdf2p5Q"
   },
   "source": [
    "### Задача 3: Использование оконных функций (2б)"
   ]
  },
  {
   "cell_type": "markdown",
   "metadata": {
    "id": "4hBoRbN9xXkp"
   },
   "source": [
    "Результатом должен быть работающий код на Python, выполняющий все шаги из задания.\n",
    "1. Создайте базу данных `sales.db` с таблицей `sales`:\n",
    "   - `id` (INTEGER, PRIMARY KEY, AUTOINCREMENT),\n",
    "   - `region` (TEXT),\n",
    "   - `employee` (TEXT),\n",
    "   - `amount` (INTEGER).\n",
    "2. Вставьте данные:\n",
    "   - `North`, `Alice`, 500;\n",
    "   - `North`, `Bob`, 300;\n",
    "   - `South`, `Charlie`, 700;\n",
    "   - `South`, `David`, 400;\n",
    "   - `North`, `Eve`, 200.\n",
    "3. Напишите SQL-запросы с оконными функциями для:\n",
    "   - Вычисления общего объёма продаж (`amount`) по каждому региону.\n",
    "   - Вычисления ранга (`rank`) сотрудника в своём регионе на основе суммы продаж.\n",
    "\n",
    "**Ожидаемый результат:**\n",
    "```\n",
    "('North', 'Alice', 500, 1000, 1)\n",
    "('North', 'Bob', 300, 1000, 2)\n",
    "('North', 'Eve', 200, 1000, 3)\n",
    "('South', 'Charlie', 700, 1100, 1)\n",
    "('South', 'David', 400, 1100, 2)\n",
    "```"
   ]
  },
  {
   "cell_type": "code",
   "execution_count": 7,
   "metadata": {},
   "outputs": [
    {
     "name": "stdout",
     "output_type": "stream",
     "text": [
      "('North', 'Alice', 500, 1000, 1)\n",
      "('North', 'Bob', 300, 1000, 2)\n",
      "('North', 'Eve', 200, 1000, 3)\n",
      "('South', 'Charlie', 700, 1100, 1)\n",
      "('South', 'David', 400, 1100, 2)\n"
     ]
    }
   ],
   "source": [
    "import sqlite3\n",
    "\n",
    "conn = sqlite3.connect('sales.db')\n",
    "cursor = conn.cursor()\n",
    "cursor.execute('''CREATE TABLE IF NOT EXISTS sales (\n",
    "        id INTEGER PRIMARY KEY AUTOINCREMENT,\n",
    "        region TEXT,\n",
    "        employee TEXT,\n",
    "        amount INTEGER)''')\n",
    "conn.commit()\n",
    "sales_data = [('North', 'Alice', 500), ('North', 'Bob', 300), ('South', 'Charlie', 700), ('South', 'David', 400), ('North', 'Eve', 200)]\n",
    "cursor.executemany('INSERT INTO sales (region, employee, amount) VALUES (?, ?, ?)', sales_data)\n",
    "conn.commit()\n",
    "cursor.execute('''SELECT region, employee, amount,\n",
    "           SUM(amount) OVER (PARTITION BY region) AS total_amount,\n",
    "           RANK() OVER (PARTITION BY region ORDER BY amount DESC) AS rank\n",
    "    FROM sales''')\n",
    "for i in cursor.fetchall():\n",
    "    print(i)\n",
    "conn.close()"
   ]
  },
  {
   "cell_type": "markdown",
   "metadata": {
    "id": "M-Z_szfD20dT"
   },
   "source": [
    "### Задача 4: Работа с ORM: связь многие-ко-многим (3б)"
   ]
  },
  {
   "cell_type": "markdown",
   "metadata": {
    "id": "d9K9885Oy0XK"
   },
   "source": [
    "В этом задании всё должно быть сделано с помощью ORM SQLAlchemy или аналогов в Python. Использование чего-либо, где вы просто пишете обычный SQL-запрос, оценивается в 0 баллов за задание.\n",
    "1. Создайте базу данных `school.db` с таблицами:\n",
    "   - `students`:\n",
    "     - `id` (INTEGER, PRIMARY KEY, AUTOINCREMENT),\n",
    "     - `name` (TEXT, NOT NULL).\n",
    "   - `courses`:\n",
    "     - `id` (INTEGER, PRIMARY KEY, AUTOINCREMENT),\n",
    "     - `title` (TEXT, UNIQUE, NOT NULL).\n",
    "   - Связующая таблица `student_courses`:\n",
    "     - `student_id` (INTEGER, ForeignKey(`students.id`)),\n",
    "     - `course_id` (INTEGER, ForeignKey(`courses.id`)).\n",
    "2. Добавьте студентов и курсы:\n",
    "   - Студенты: `Alice`, `Bob`, `Charlie`.\n",
    "   - Курсы: `Math`, `Physics`, `Chemistry`.\n",
    "3. Запишите данные о том, кто посещает какие курсы:\n",
    "   - `Alice` посещает `Math` и `Physics`.\n",
    "   - `Bob` посещает `Physics` и `Chemistry`.\n",
    "   - `Charlie` посещает все три курса.\n",
    "4. Напишите запросы:\n",
    "   - Вывести всех студентов с их курсами.\n",
    "   - Найти всех студентов, которые посещают `Physics`.\n",
    "\n",
    "**Ожидаемый вывод**\n",
    "```\n",
    "Alice: Physics, Math\n",
    "Charlie: Physics, Chemistry, Math\n",
    "Bob: Physics, Chemistry\n",
    "Студенты, посещающие Physics:\n",
    "Alice\n",
    "Bob\n",
    "Charlie\n",
    "```"
   ]
  },
  {
   "cell_type": "code",
   "execution_count": 11,
   "metadata": {},
   "outputs": [
    {
     "name": "stdout",
     "output_type": "stream",
     "text": [
      "Alice: Physics, Math\n",
      "Charlie: Chemistry, Physics, Math\n",
      "Bob: Chemistry, Physics\n",
      "Студенты, посещающие Physics:\n",
      "Alice\n",
      "Bob\n",
      "Charlie\n"
     ]
    }
   ],
   "source": [
    "from sqlalchemy import create_engine, Column, Integer, String, ForeignKey, Table\n",
    "from sqlalchemy.orm import declarative_base, relationship, sessionmaker\n",
    "\n",
    "Base = declarative_base()\n",
    "\n",
    "student_course = Table(\n",
    "    'student_course', Base.metadata,\n",
    "    Column('student_id', Integer, ForeignKey('students.id')),\n",
    "    Column('course_id', Integer, ForeignKey('courses.id'))\n",
    ")\n",
    "\n",
    "class Student(Base):\n",
    "    __tablename__ = 'students'\n",
    "    id = Column(Integer, primary_key=True)\n",
    "    name = Column(String, nullable=False)\n",
    "    courses = relationship('Course', secondary=student_course, back_populates='students')\n",
    "\n",
    "class Course(Base):\n",
    "    __tablename__ = 'courses'\n",
    "    id = Column(Integer, primary_key=True)\n",
    "    title = Column(String, unique=True, nullable=False)\n",
    "    students = relationship('Student', secondary=student_course, back_populates='courses')\n",
    "\n",
    "engine = create_engine('sqlite:///school.db')\n",
    "Base.metadata.create_all(engine)\n",
    "Session = sessionmaker(bind=engine)\n",
    "session = Session()\n",
    "\n",
    "alice = Student(name='Alice')\n",
    "bob = Student(name='Bob')\n",
    "charlie = Student(name='Charlie')\n",
    "\n",
    "math = Course(title='Math')\n",
    "physics = Course(title='Physics')\n",
    "chemistry = Course(title='Chemistry')\n",
    "\n",
    "alice.courses.extend([math, physics])\n",
    "bob.courses.extend([physics, chemistry])\n",
    "charlie.courses.extend([math, physics, chemistry])\n",
    "session.add_all([alice, bob, charlie, math, physics, chemistry])\n",
    "session.commit()\n",
    "students = session.query(Student).all()\n",
    "for student in students:\n",
    "    print(f\"{student.name}: {', '.join([course.title for course in student.courses])}\")\n",
    "physics_students = session.query(Student).join(student_course).join(Course).filter(Course.title == 'Physics').all()\n",
    "print(\"Студенты, посещающие Physics:\")\n",
    "for student in physics_students:\n",
    "    print(student.name)\n",
    "session.close()"
   ]
  },
  {
   "cell_type": "code",
   "execution_count": null,
   "metadata": {},
   "outputs": [],
   "source": []
  }
 ],
 "metadata": {
  "colab": {
   "collapsed_sections": [
    "ea0KkZhm8nqD",
    "tvVIszZv2noc",
    "0SaLrCdf2p5Q",
    "M-Z_szfD20dT"
   ],
   "provenance": []
  },
  "kernelspec": {
   "display_name": "Python 3 (ipykernel)",
   "language": "python",
   "name": "python3"
  },
  "language_info": {
   "codemirror_mode": {
    "name": "ipython",
    "version": 3
   },
   "file_extension": ".py",
   "mimetype": "text/x-python",
   "name": "python",
   "nbconvert_exporter": "python",
   "pygments_lexer": "ipython3",
   "version": "3.11.8"
  }
 },
 "nbformat": 4,
 "nbformat_minor": 4
}
