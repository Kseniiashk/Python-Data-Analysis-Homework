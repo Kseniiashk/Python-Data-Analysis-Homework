{
 "cells": [
  {
   "cell_type": "markdown",
   "metadata": {
    "id": "4RcLSNBEe4ZJ"
   },
   "source": [
    "**Домашнее задание 1**"
   ]
  },
  {
   "cell_type": "markdown",
   "metadata": {
    "id": "pztkxtkhe9EO"
   },
   "source": [
    "Решите предложенные задания с использованием модуля NumPy. Использование условий и циклов крайне нежелательно (списковые включения это тоже цикл!), за это будут снижаться баллы.\n",
    "Все задания равноценны. В каждой задаче постарайтесь придумать несколько решений. В задачах, где обязательно необходимо предложить хотя бы два решения, об этом написано. Решением должен быть Jupyter notebook / ссылка на Colab"
   ]
  },
  {
   "cell_type": "markdown",
   "metadata": {
    "id": "xAB-US-cfH9k"
   },
   "source": [
    "Под массивом (если не указано иное), понимается одномерный массив. Для большей части задач не указан размер массива. Это значит, что код должен работать корректно для любого размера массива"
   ]
  },
  {
   "cell_type": "markdown",
   "metadata": {
    "id": "UI0rE3Sqe_t1"
   },
   "source": [
    "1. Создайте массив 3x3, состоящий из True. Напишите минимум два варианта решения\n"
   ]
  },
  {
   "cell_type": "code",
   "execution_count": 1,
   "metadata": {
    "id": "o9o5if-Ze1pV"
   },
   "outputs": [
    {
     "name": "stdout",
     "output_type": "stream",
     "text": [
      "[[ True  True  True]\n",
      " [ True  True  True]\n",
      " [ True  True  True]]\n",
      "[[True, True, True], [True, True, True], [True, True, True]]\n"
     ]
    }
   ],
   "source": [
    "import numpy as np\n",
    "a = np.full((3, 3), True)\n",
    "print(a)\n",
    "\n",
    "b = [[True for _ in range(3)] for _ in range(3)]\n",
    "print(b)"
   ]
  },
  {
   "cell_type": "markdown",
   "metadata": {
    "id": "hYpMLg6Jffy_"
   },
   "source": [
    "2. Замените в массиве все нечетные положительные числа на -1"
   ]
  },
  {
   "cell_type": "code",
   "execution_count": 4,
   "metadata": {
    "id": "2k2fOOoGffy_"
   },
   "outputs": [
    {
     "name": "stdout",
     "output_type": "stream",
     "text": [
      "[[-1  2 -1]\n",
      " [-1 -1 -3]\n",
      " [-1  8  6]]\n"
     ]
    }
   ],
   "source": [
    "import numpy as np\n",
    "\n",
    "a = np.array([[1, 2, 1], [-1, 5, -3], [7, 8, 6]])\n",
    "a[(a > 0) & (a % 2 == 1)] = -1\n",
    "print(a)"
   ]
  },
  {
   "cell_type": "markdown",
   "metadata": {
    "id": "xLDIzCXSfgUS"
   },
   "source": [
    "3. Найдите все числа, встречающиеся в 1 и 2 массивах"
   ]
  },
  {
   "cell_type": "code",
   "execution_count": 7,
   "metadata": {
    "id": "pqW7K14QfgUS"
   },
   "outputs": [
    {
     "name": "stdout",
     "output_type": "stream",
     "text": [
      "[3 5]\n"
     ]
    }
   ],
   "source": [
    "import numpy as np\n",
    "\n",
    "a = np.array([1, 3, 5, 6])\n",
    "b = np.array([2, 3, 4, 5, 7])\n",
    "print(np.intersect1d(a, b))"
   ]
  },
  {
   "cell_type": "markdown",
   "metadata": {
    "id": "7NGZzKYjfga_"
   },
   "source": [
    "4. Дана функция maxx, работающая с двумя числами. Напишите обертку над ней, которая будет работать с двумя np.array (одинакового размера) и будет применять функцию maxx поэлементно (вместо maxx может быть любая другая кастомная функция)\n",
    "\n",
    "\n",
    "```\n",
    "def maxx(x, y):\n",
    "\t    return x if x >= y else y\n",
    "```\n",
    "\n",
    "\n"
   ]
  },
  {
   "cell_type": "code",
   "execution_count": 10,
   "metadata": {
    "id": "kp95R4sCfga_"
   },
   "outputs": [
    {
     "name": "stdout",
     "output_type": "stream",
     "text": [
      "[10  3  9  4]\n"
     ]
    }
   ],
   "source": [
    "import numpy as np\n",
    "\n",
    "def maxx(x, y):\n",
    "    return x if x >= y else y\n",
    "def maxx_array(a, b):\n",
    "    vectorized_maxx = np.vectorize(maxx)\n",
    "    return vectorized_maxx(a, b)\n",
    "\n",
    "a = np.array([10, 1, 9, 3])\n",
    "b = np.array([5, 3, 7, 4])\n",
    "print(maxx_array(a, b))"
   ]
  },
  {
   "cell_type": "markdown",
   "metadata": {
    "id": "vtDaIJJvfgfV"
   },
   "source": [
    "5. Дана матрица 3х3. Поменяйте местами 1 и 2 столбцы матрицы."
   ]
  },
  {
   "cell_type": "code",
   "execution_count": 46,
   "metadata": {
    "id": "GBCy-u0zfgfV"
   },
   "outputs": [
    {
     "name": "stdout",
     "output_type": "stream",
     "text": [
      "[[2 1 3]\n",
      " [5 4 6]\n",
      " [8 7 9]]\n"
     ]
    }
   ],
   "source": [
    "import numpy as np\n",
    "\n",
    "a = np.array([[1, 2, 3],  [4, 5, 6], [7, 8, 9]])\n",
    "a[:, [0, 1]] = a[:, [1, 0]]\n",
    "print(a)"
   ]
  },
  {
   "cell_type": "markdown",
   "metadata": {
    "id": "Oj9ydDJLfgnR"
   },
   "source": [
    "6. Поменяйте опции (```np.set_printoptions```), чтобы при выводе numpy.array отображалось не более 6 элементов"
   ]
  },
  {
   "cell_type": "code",
   "execution_count": 48,
   "metadata": {
    "id": "Y-2HJiwgfgnR"
   },
   "outputs": [
    {
     "name": "stdout",
     "output_type": "stream",
     "text": [
      "[0 1 2 ... 7 8 9]\n"
     ]
    }
   ],
   "source": [
    "import numpy as np\n",
    "\n",
    "a = np.arange(10)\n",
    "np.set_printoptions(threshold=6)\n",
    "print(a)"
   ]
  },
  {
   "cell_type": "markdown",
   "metadata": {
    "id": "K66Xk-IGfgo4"
   },
   "source": [
    "7. В данном массиве замените все числа, меньшие 0 на 0, а большие 255 на 255. Напишите минимум два варианта решения"
   ]
  },
  {
   "cell_type": "code",
   "execution_count": 19,
   "metadata": {
    "id": "yfUBo1Lqfgo4"
   },
   "outputs": [
    {
     "name": "stdout",
     "output_type": "stream",
     "text": [
      "[  0  50 255 100   0 255 255]\n"
     ]
    }
   ],
   "source": [
    "import numpy as np\n",
    "\n",
    "a = np.array([-10, 50, 260, 100, -5, 255, 300])\n",
    "a = np.clip(a, 0, 255)\n",
    "np.set_printoptions(threshold=100)\n",
    "print(a)"
   ]
  },
  {
   "cell_type": "markdown",
   "metadata": {
    "id": "IUgt2Rqsfgqp"
   },
   "source": [
    "8. Выведите позиции топ-5 максимальных элементов в массиве. Попробуйте решить задачу за линейную сложность относительно числа элементов"
   ]
  },
  {
   "cell_type": "code",
   "execution_count": 22,
   "metadata": {
    "id": "RUvuwMT_fgqq"
   },
   "outputs": [
    {
     "name": "stdout",
     "output_type": "stream",
     "text": [
      "6 1 3 7 8\n"
     ]
    }
   ],
   "source": [
    "import numpy as np\n",
    "\n",
    "a = np.array([5, 32, 4, 35, 6, 6, 7, 100, 1000, 3])\n",
    "b = np.argpartition(a, -5)[-5:]\n",
    "print(*b[np.argsort(a[b])])"
   ]
  },
  {
   "cell_type": "markdown",
   "metadata": {
    "id": "8x_79zGzfgtQ"
   },
   "source": [
    "9. Преобразуйте массив массивов в одномерный массив."
   ]
  },
  {
   "cell_type": "code",
   "execution_count": 25,
   "metadata": {
    "id": "4AhgBCO8fgtQ"
   },
   "outputs": [
    {
     "name": "stdout",
     "output_type": "stream",
     "text": [
      "1 2 3 4\n"
     ]
    }
   ],
   "source": [
    "import numpy as np\n",
    "\n",
    "a = np.array([[1, 2], [3, 4]])\n",
    "print(*np.concatenate(a))"
   ]
  },
  {
   "cell_type": "markdown",
   "metadata": {
    "id": "sD2_1iRcfguc"
   },
   "source": [
    "10. Найдите максимум в каждой строке двумерного массива"
   ]
  },
  {
   "cell_type": "code",
   "execution_count": 28,
   "metadata": {
    "id": "8vwGhIiYfgud"
   },
   "outputs": [
    {
     "name": "stdout",
     "output_type": "stream",
     "text": [
      "2 4\n"
     ]
    }
   ],
   "source": [
    "import numpy as np\n",
    "\n",
    "a = np.array([[2, 1], [3, 4]])\n",
    "print(*np.amax(a, axis=1))"
   ]
  },
  {
   "cell_type": "markdown",
   "metadata": {
    "id": "FhpQUM-efgwp"
   },
   "source": [
    "11. Удалите все np.nan из массива"
   ]
  },
  {
   "cell_type": "code",
   "execution_count": 50,
   "metadata": {
    "id": "t1kEcIdhfgwp"
   },
   "outputs": [
    {
     "name": "stdout",
     "output_type": "stream",
     "text": [
      "Массив без np.nan: [ 1.  4.  4. 63.  7.]\n"
     ]
    }
   ],
   "source": [
    "import numpy as np\n",
    "\n",
    "a = np.array([1, 4, np.nan, 4, np.nan, 63, 7, np.nan])\n",
    "print(\"Массив без np.nan:\", a[~np.isnan(a)])"
   ]
  },
  {
   "cell_type": "markdown",
   "metadata": {
    "id": "C_uo6hVEfgx7"
   },
   "source": [
    "12. Найдите индекс пятого повторения числа 1 в массиве (считаем, что в массиве есть хотя бы пять единиц)"
   ]
  },
  {
   "cell_type": "code",
   "execution_count": 52,
   "metadata": {
    "id": "lZLVAWMRfgx7"
   },
   "outputs": [
    {
     "name": "stdout",
     "output_type": "stream",
     "text": [
      "13\n"
     ]
    }
   ],
   "source": [
    "import numpy as np\n",
    "\n",
    "a = np.array([1, 0, 0, 4, 1, 1, 4, 5, 6, 3, 1, 4, 3, 1, 1, 3, 4, 5, 11])\n",
    "fifth_index = np.where(a == 1)[0][4]\n",
    "print(fifth_index)"
   ]
  },
  {
   "cell_type": "markdown",
   "metadata": {
    "id": "KTVoVn6dfg0z"
   },
   "source": [
    "13. В квадратной матрице 5х5 из нулей получить ромб из 1, который касается середин сторон квадрата. Решите задачу как для полного ромба (внутри все 1), так и для полого (1 по границе, внутри 0):\n",
    "\n",
    "```\n",
    "полный           полый\n",
    "0 0 1 0 0       0 0 1 0 0\n",
    "0 1 1 1 0       0 1 0 1 0\n",
    "1 1 1 1 1       1 0 0 0 1\n",
    "0 1 1 1 0       0 1 0 1 0\n",
    "0 0 1 0 0       0 0 1 0 0\n",
    "```"
   ]
  },
  {
   "cell_type": "code",
   "execution_count": 37,
   "metadata": {
    "id": "n6E9G7LYfg00"
   },
   "outputs": [
    {
     "name": "stdout",
     "output_type": "stream",
     "text": [
      "Полный:\n",
      "[[0 0 1 0 0]\n",
      " [0 1 1 1 0]\n",
      " [1 1 1 1 1]\n",
      " [0 1 1 1 0]\n",
      " [0 0 1 0 0]]\n",
      "\n",
      "Полый:\n",
      "[[0 0 1 0 0]\n",
      " [0 1 0 1 0]\n",
      " [1 0 0 0 1]\n",
      " [0 1 0 1 0]\n",
      " [0 0 1 0 0]]\n"
     ]
    }
   ],
   "source": [
    "import numpy as np\n",
    "\n",
    "a = np.zeros((5, 5), dtype=int)\n",
    "\n",
    "res1 = a.copy()\n",
    "for i in range(5):\n",
    "    for j in range(5):\n",
    "        if abs(i - 2) + abs(j - 2) <= 2:\n",
    "            res1[i, j] = 1\n",
    "\n",
    "print(\"Полный:\")\n",
    "print(res1)\n",
    "print()\n",
    "\n",
    "res2 = a.copy()\n",
    "for i in range(5):\n",
    "    for j in range(5):\n",
    "        if abs(i - 2) + abs(j - 2) == 2:\n",
    "            res2[i, j] = 1\n",
    "print(\"Полый:\")\n",
    "print(res2)"
   ]
  },
  {
   "cell_type": "markdown",
   "metadata": {
    "id": "2gISyO8Tfg1-"
   },
   "source": [
    "14. Создать случайную матрицу 5x7 целых чисел от 1 до 100 и удалить [3,5] колонки"
   ]
  },
  {
   "cell_type": "code",
   "execution_count": 40,
   "metadata": {
    "id": "8CNseuq6fg1-"
   },
   "outputs": [
    {
     "name": "stdout",
     "output_type": "stream",
     "text": [
      "[[ 5 79 77 57 99 66 29]\n",
      " [86 62 28 96 29 58 44]\n",
      " [25 44  7 33 26 81 62]\n",
      " [72 11 27 73 75  8 34]\n",
      " [65 77 21 84 74 24 51]]\n",
      "\n",
      "[[ 5 79 77 99 29]\n",
      " [86 62 28 29 44]\n",
      " [25 44  7 26 62]\n",
      " [72 11 27 75 34]\n",
      " [65 77 21 74 51]]\n"
     ]
    }
   ],
   "source": [
    "import numpy as np\n",
    "\n",
    "a = np.random.randint(1, 101, size=(5, 7))\n",
    "print(a)\n",
    "print()\n",
    "print(np.delete(a, [3, 5], axis=1))"
   ]
  },
  {
   "cell_type": "markdown",
   "metadata": {
    "id": "DyFT6PjAfg3H"
   },
   "source": [
    "15. Вычислите [скользящее среднее](https://ru.wikipedia.org/wiki/%D0%A1%D0%BA%D0%BE%D0%BB%D1%8C%D0%B7%D1%8F%D1%89%D0%B0%D1%8F_%D1%81%D1%80%D0%B5%D0%B4%D0%BD%D1%8F%D1%8F) в окне ширины 3"
   ]
  },
  {
   "cell_type": "code",
   "execution_count": 43,
   "metadata": {
    "id": "fbBZCGXrfg3H"
   },
   "outputs": [
    {
     "name": "stdout",
     "output_type": "stream",
     "text": [
      "[ 2.          3.          4.          2.         -2.66666667 -6.        ]\n"
     ]
    }
   ],
   "source": [
    "import numpy as np\n",
    "\n",
    "a = np.array([1, 2, 3, 4, 5, -3, -10, -5])\n",
    "w = np.ones(3) / 3\n",
    "print(np.convolve(a, w, 'valid'))"
   ]
  }
 ],
 "metadata": {
  "colab": {
   "provenance": []
  },
  "kernelspec": {
   "display_name": "Python 3 (ipykernel)",
   "language": "python",
   "name": "python3"
  },
  "language_info": {
   "codemirror_mode": {
    "name": "ipython",
    "version": 3
   },
   "file_extension": ".py",
   "mimetype": "text/x-python",
   "name": "python",
   "nbconvert_exporter": "python",
   "pygments_lexer": "ipython3",
   "version": "3.11.8"
  }
 },
 "nbformat": 4,
 "nbformat_minor": 4
}
